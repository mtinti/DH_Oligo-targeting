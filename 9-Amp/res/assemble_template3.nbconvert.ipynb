{
 "cells": [
  {
   "cell_type": "markdown",
   "metadata": {},
   "source": [
    "![wcar](static/wcar.png)\n",
    "# Over Expression Library: NMT\n",
    "\n",
    "    Wellcome Centre for Anti-Infectives Research\n",
    "    School of Life Sciences, University of Dundee"
   ]
  },
  {
   "cell_type": "markdown",
   "metadata": {},
   "source": [
    "# Analysis start"
   ]
  },
  {
   "cell_type": "code",
   "execution_count": 1,
   "metadata": {},
   "outputs": [],
   "source": [
    "#reload when modified\n",
    "%load_ext autoreload\n",
    "%autoreload 2\n",
    "%matplotlib inline"
   ]
  },
  {
   "cell_type": "code",
   "execution_count": 2,
   "metadata": {},
   "outputs": [],
   "source": [
    "#load labrary\n",
    "import pandas as pd\n",
    "import matplotlib.pyplot as plt\n",
    "import numpy as np\n",
    "import os\n",
    "from IPython.display import Image"
   ]
  },
  {
   "cell_type": "code",
   "execution_count": 3,
   "metadata": {},
   "outputs": [],
   "source": [
    "import sys\n",
    "sys.path.insert(0, \"mylib\")"
   ]
  },
  {
   "cell_type": "code",
   "execution_count": 4,
   "metadata": {},
   "outputs": [],
   "source": [
    "from plot_region_coverage import plot_region\n",
    "from plot_region_coverage import get_field\n",
    "from plot_region_coverage import gff_to_pandas"
   ]
  },
  {
   "cell_type": "code",
   "execution_count": 5,
   "metadata": {},
   "outputs": [
    {
     "data": {
      "application/javascript": [
       "require.config({\n",
       "    paths: {\n",
       "        datatables: 'https://cdn.datatables.net/1.10.19/js/jquery.dataTables.min',\n",
       "    }\n",
       "});\n",
       "\n",
       "$('head').append('<link rel=\"stylesheet\" type=\"text/css\" \\\n",
       "                href = \"https://cdn.datatables.net/1.10.19/css/jquery.dataTables.min.css\" > ');\n",
       "\n",
       "$('head').append('<style> table td { text-overflow: ellipsis; overflow: hidden; } </style>');\n",
       "\n",
       "$('head').append(`<script>\n",
       "function eval_functions(map_or_text) {\n",
       "    if (typeof map_or_text === \"string\") {\n",
       "        if (map_or_text.startsWith(\"function\")) {\n",
       "            try {\n",
       "                // Note: parenthesis are required around the whole expression for eval to return a value!\n",
       "                // See https://stackoverflow.com/a/7399078/911298.\n",
       "                //\n",
       "                // eval(\"local_fun = \" + map_or_text) would fail because local_fun is not declared\n",
       "                // (using var, let or const would work, but it would only be declared in the local scope\n",
       "                // and therefore the value could not be retrieved).\n",
       "                const func = eval(\"(\" + map_or_text + \")\");\n",
       "                if (typeof func !== \"function\") {\n",
       "                    // Note: backquotes are super convenient!\n",
       "                    // https://developer.mozilla.org/en-US/docs/Web/JavaScript/Reference/Template_literals\n",
       "                    console.error(\"Evaluated expression \" + map_or_text + \" is not a function (type is \" + typeof func + \")\");\n",
       "                    return map_or_text;\n",
       "                }\n",
       "                // Return the function\n",
       "                return func;\n",
       "            } catch (e) {\n",
       "                // Make sure to print the error with a second argument to console.error().\n",
       "                console.error(\"itables was not able to parse \" + map_or_text, e);\n",
       "            }\n",
       "        }\n",
       "    } else if (typeof map_or_text === \"object\") {\n",
       "        if (map_or_text instanceof Array) {\n",
       "            // Note: \"var\" is now superseded by \"let\" and \"const\".\n",
       "            // https://medium.com/javascript-scene/javascript-es6-var-let-or-const-ba58b8dcde75\n",
       "            const result = [];\n",
       "            // Note: \"for of\" is the best way to iterate through an iterable.\n",
       "            // https://developer.mozilla.org/en-US/docs/Web/JavaScript/Reference/Statements/for...of\n",
       "            for (const item of map_or_text) {\n",
       "                result.push(eval_functions(item));\n",
       "            }\n",
       "            return result;\n",
       "\n",
       "            // Alternatively, more functional approach in one line:\n",
       "            // return map_or_text.map(eval_functions);\n",
       "        } else {\n",
       "            const result = {};\n",
       "            // Object.keys() is safer than \"for in\" because otherwise you might have keys\n",
       "            // that aren't defined in the object itself.\n",
       "            //\n",
       "            // See https://stackoverflow.com/a/684692/911298.\n",
       "            for (const item of Object.keys(map_or_text)) {\n",
       "                result[item] = eval_functions(map_or_text[item]);\n",
       "            }\n",
       "            return result;\n",
       "        }\n",
       "    }\n",
       "\n",
       "    return map_or_text;\n",
       "}\n",
       "</` + 'script>');"
      ],
      "text/plain": [
       "<IPython.core.display.Javascript object>"
      ]
     },
     "metadata": {},
     "output_type": "display_data"
    }
   ],
   "source": [
    "#import itables.interactive\n",
    "from itables import show"
   ]
  },
  {
   "cell_type": "markdown",
   "metadata": {},
   "source": [
    "## Helper functions"
   ]
  },
  {
   "cell_type": "code",
   "execution_count": 6,
   "metadata": {},
   "outputs": [],
   "source": [
    "_EXPERIMENT = '9-Amp'\n",
    "_FASTQ_HEADER = 'V350002156_L1_TRYlhwR021526-529_'\n",
    "_GFF = os.path.join('genomes','tb427','tb427.gff')"
   ]
  },
  {
   "cell_type": "markdown",
   "metadata": {},
   "source": [
    "## Read GFF file"
   ]
  },
  {
   "cell_type": "code",
   "execution_count": 7,
   "metadata": {
    "require": [
     "base/js/events",
     "datatables.net",
     "d3",
     "chartjs",
     "dt-config",
     "dt-components",
     "dt-graph-objects",
     "dt-toolbar",
     "dt-tooltips",
     "jupyter-datatables"
    ]
   },
   "outputs": [
    {
     "name": "stdout",
     "output_type": "stream",
     "text": [
      "                gene_chr    source ftype  gene_start  gene_end score  \\\n",
      "0     Chr1_core_Tb427v10  EuPathDB  gene       33710     34309     .   \n",
      "4   unitig_1853_Tb427v10  EuPathDB  gene       26627     29008     .   \n",
      "8    Chr10_core_Tb427v10  EuPathDB  gene     3400699   3401784     .   \n",
      "12  unitig_2138_Tb427v10  EuPathDB  gene       16903     18203     .   \n",
      "20     Chr11_3B_Tb427v10  EuPathDB  gene      357090    357953     .   \n",
      "\n",
      "   gene_strand score2                                          gene_desc  \n",
      "0            -      .  ID=Tb427_010006200;description=hypothetical pr...  \n",
      "4            -      .  ID=Tb427_000655200;description=Retrotransposon...  \n",
      "8            -      .  ID=Tb427_100148100;description=Pentatricopepti...  \n",
      "12           -      .  ID=Tb427_000717500:pseudogene;description=hypo...  \n",
      "20           +      .  ID=Tb427_000155800:pseudogene;description=hypo...  \n"
     ]
    },
    {
     "data": {
      "text/html": [
       "<div>\n",
       "<style scoped>\n",
       "    .dataframe tbody tr th:only-of-type {\n",
       "        vertical-align: middle;\n",
       "    }\n",
       "\n",
       "    .dataframe tbody tr th {\n",
       "        vertical-align: top;\n",
       "    }\n",
       "\n",
       "    .dataframe thead th {\n",
       "        text-align: right;\n",
       "    }\n",
       "</style>\n",
       "<table border=\"1\" class=\"dataframe\">\n",
       "  <thead>\n",
       "    <tr style=\"text-align: right;\">\n",
       "      <th></th>\n",
       "      <th>gene_chr</th>\n",
       "      <th>gene_start</th>\n",
       "      <th>gene_end</th>\n",
       "      <th>gene_strand</th>\n",
       "      <th>gene_desc</th>\n",
       "    </tr>\n",
       "    <tr>\n",
       "      <th>gene_id</th>\n",
       "      <th></th>\n",
       "      <th></th>\n",
       "      <th></th>\n",
       "      <th></th>\n",
       "      <th></th>\n",
       "    </tr>\n",
       "  </thead>\n",
       "  <tbody>\n",
       "    <tr>\n",
       "      <th>Tb427_010006200</th>\n",
       "      <td>Chr1_core_Tb427v10</td>\n",
       "      <td>33710</td>\n",
       "      <td>34309</td>\n",
       "      <td>-</td>\n",
       "      <td>hypothetical proteinC conserved</td>\n",
       "    </tr>\n",
       "    <tr>\n",
       "      <th>Tb427_000655200</th>\n",
       "      <td>unitig_1853_Tb427v10</td>\n",
       "      <td>26627</td>\n",
       "      <td>29008</td>\n",
       "      <td>-</td>\n",
       "      <td>Retrotransposon hot spot proteinC putative</td>\n",
       "    </tr>\n",
       "    <tr>\n",
       "      <th>Tb427_100148100</th>\n",
       "      <td>Chr10_core_Tb427v10</td>\n",
       "      <td>3400699</td>\n",
       "      <td>3401784</td>\n",
       "      <td>-</td>\n",
       "      <td>Pentatricopeptide repeat domain containing pro...</td>\n",
       "    </tr>\n",
       "    <tr>\n",
       "      <th>Tb427_000717500:pseudogene</th>\n",
       "      <td>unitig_2138_Tb427v10</td>\n",
       "      <td>16903</td>\n",
       "      <td>18203</td>\n",
       "      <td>-</td>\n",
       "      <td>hypothetical proteinC conserved</td>\n",
       "    </tr>\n",
       "    <tr>\n",
       "      <th>Tb427_000155800:pseudogene</th>\n",
       "      <td>Chr11_3B_Tb427v10</td>\n",
       "      <td>357090</td>\n",
       "      <td>357953</td>\n",
       "      <td>+</td>\n",
       "      <td>hypothetical proteinC conserved</td>\n",
       "    </tr>\n",
       "  </tbody>\n",
       "</table>\n",
       "</div>"
      ],
      "text/plain": [
       "                                        gene_chr  gene_start  gene_end  \\\n",
       "gene_id                                                                  \n",
       "Tb427_010006200               Chr1_core_Tb427v10       33710     34309   \n",
       "Tb427_000655200             unitig_1853_Tb427v10       26627     29008   \n",
       "Tb427_100148100              Chr10_core_Tb427v10     3400699   3401784   \n",
       "Tb427_000717500:pseudogene  unitig_2138_Tb427v10       16903     18203   \n",
       "Tb427_000155800:pseudogene     Chr11_3B_Tb427v10      357090    357953   \n",
       "\n",
       "                           gene_strand  \\\n",
       "gene_id                                  \n",
       "Tb427_010006200                      -   \n",
       "Tb427_000655200                      -   \n",
       "Tb427_100148100                      -   \n",
       "Tb427_000717500:pseudogene           -   \n",
       "Tb427_000155800:pseudogene           +   \n",
       "\n",
       "                                                                    gene_desc  \n",
       "gene_id                                                                        \n",
       "Tb427_010006200                               hypothetical proteinC conserved  \n",
       "Tb427_000655200                    Retrotransposon hot spot proteinC putative  \n",
       "Tb427_100148100             Pentatricopeptide repeat domain containing pro...  \n",
       "Tb427_000717500:pseudogene                    hypothetical proteinC conserved  \n",
       "Tb427_000155800:pseudogene                    hypothetical proteinC conserved  "
      ]
     },
     "execution_count": 7,
     "metadata": {},
     "output_type": "execute_result"
    }
   ],
   "source": [
    "gff = gff_to_pandas(_GFF)\n",
    "gff.set_index('gene_id',inplace=True)\n",
    "#print(gff.shape)\n",
    "gff.head()"
   ]
  },
  {
   "cell_type": "markdown",
   "metadata": {},
   "source": [
    "## Read Peaks"
   ]
  },
  {
   "cell_type": "code",
   "execution_count": 8,
   "metadata": {
    "require": [
     "base/js/events",
     "datatables.net",
     "d3",
     "chartjs",
     "dt-config",
     "dt-components",
     "dt-graph-objects",
     "dt-toolbar",
     "dt-tooltips",
     "jupyter-datatables"
    ]
   },
   "outputs": [
    {
     "name": "stdout",
     "output_type": "stream",
     "text": [
      "(9, 6)\n",
      "(1, 6)\n"
     ]
    }
   ],
   "source": [
    "path_to_peaks = os.path.join(_EXPERIMENT,'macs2_'+_FASTQ_HEADER,'NA_peaks.xls')\n",
    "peaks = pd.read_csv(path_to_peaks, sep='\\t', index_col=None, comment='#')\n",
    "peaks.sort_values('pileup',ascending=False,inplace=True)\n",
    "peaks.rename({'chr':'region_chr','start':'region_start','end':'region_end',\n",
    "             'length':'region_length','pileup':'region_pileup',\n",
    "              'name':'region_name'},axis=1,inplace=True)\n",
    "peaks.drop(['-log10(pvalue)','fold_enrichment','-log10(qvalue)'],inplace=True,axis=1)\n",
    "print(peaks.shape)\n",
    "peaks.head(10)\n",
    "#filter out small count peaks\n",
    "peaks = peaks[peaks['region_pileup']>peaks['region_pileup'].mean()]\n",
    "peaks = peaks.head(20)\n",
    "print(peaks.shape)"
   ]
  },
  {
   "cell_type": "markdown",
   "metadata": {},
   "source": [
    "## Read Gene Counts"
   ]
  },
  {
   "cell_type": "code",
   "execution_count": 9,
   "metadata": {
    "require": [
     "base/js/events",
     "datatables.net",
     "d3",
     "chartjs",
     "dt-config",
     "dt-components",
     "dt-graph-objects",
     "dt-toolbar",
     "dt-tooltips",
     "jupyter-datatables"
    ]
   },
   "outputs": [
    {
     "name": "stdout",
     "output_type": "stream",
     "text": [
      "                       Geneid                 Chr  Start    End Strand  \\\n",
      "0             Tb427_010005000  Chr1_core_Tb427v10   1164   3749      -   \n",
      "1             Tb427_010005100  Chr1_core_Tb427v10   4031   5179      -   \n",
      "2  Tb427_010005200:pseudogene  Chr1_core_Tb427v10   5303   6147      +   \n",
      "3             Tb427_010005300  Chr1_core_Tb427v10  11292  12113      -   \n",
      "4             Tb427_010005400  Chr1_core_Tb427v10  12514  15903      -   \n",
      "\n",
      "   Length  \\\n",
      "0    2586   \n",
      "1    1149   \n",
      "2     845   \n",
      "3     822   \n",
      "4    3390   \n",
      "\n",
      "   /tmp/44377.1.all.q/9-Amp/V350002156_L1_TRYlhwR021526-529_sorted.bam  \\\n",
      "0                                                  0                     \n",
      "1                                                  0                     \n",
      "2                                                  0                     \n",
      "3                                                  0                     \n",
      "4                                                  0                     \n",
      "\n",
      "   /tmp/44377.1.all.q/9-Amp/V350002156_L1_TRYlhwR021526-529_sorted_F.bam  \\\n",
      "0                                                  0                       \n",
      "1                                                  0                       \n",
      "2                                                  0                       \n",
      "3                                                  0                       \n",
      "4                                                  0                       \n",
      "\n",
      "   /tmp/44377.1.all.q/9-Amp/V350002156_L1_TRYlhwR021526-529_sorted_R.bam  \\\n",
      "0                                                  0                       \n",
      "1                                                  0                       \n",
      "2                                                  0                       \n",
      "3                                                  0                       \n",
      "4                                                  0                       \n",
      "\n",
      "   /tmp/44377.1.all.q/9-Amp/V350002156_L1_TRYlhwR021526-529_sorted_FR.bam  \\\n",
      "0                                                  0                        \n",
      "1                                                  0                        \n",
      "2                                                  0                        \n",
      "3                                                  0                        \n",
      "4                                                  0                        \n",
      "\n",
      "   /tmp/44377.1.all.q/9-Amp/V350002156_L1_TRYlhwR021526-529_sorted_RR.bam  \n",
      "0                                                  0                       \n",
      "1                                                  0                       \n",
      "2                                                  0                       \n",
      "3                                                  0                       \n",
      "4                                                  0                       \n",
      "(17243, 10)\n"
     ]
    },
    {
     "data": {
      "text/html": [
       "<div>\n",
       "<style scoped>\n",
       "    .dataframe tbody tr th:only-of-type {\n",
       "        vertical-align: middle;\n",
       "    }\n",
       "\n",
       "    .dataframe tbody tr th {\n",
       "        vertical-align: top;\n",
       "    }\n",
       "\n",
       "    .dataframe thead th {\n",
       "        text-align: right;\n",
       "    }\n",
       "</style>\n",
       "<table border=\"1\" class=\"dataframe\">\n",
       "  <thead>\n",
       "    <tr style=\"text-align: right;\">\n",
       "      <th></th>\n",
       "      <th>cchr</th>\n",
       "      <th>cstart</th>\n",
       "      <th>cend</th>\n",
       "      <th>cstrand</th>\n",
       "      <th>cgenelen</th>\n",
       "      <th>counts</th>\n",
       "      <th>counts_ff</th>\n",
       "      <th>counts_fr</th>\n",
       "      <th>counts_rf</th>\n",
       "      <th>counts_rr</th>\n",
       "    </tr>\n",
       "    <tr>\n",
       "      <th>gene_id</th>\n",
       "      <th></th>\n",
       "      <th></th>\n",
       "      <th></th>\n",
       "      <th></th>\n",
       "      <th></th>\n",
       "      <th></th>\n",
       "      <th></th>\n",
       "      <th></th>\n",
       "      <th></th>\n",
       "      <th></th>\n",
       "    </tr>\n",
       "  </thead>\n",
       "  <tbody>\n",
       "    <tr>\n",
       "      <th>Tb427_010005000</th>\n",
       "      <td>Chr1_core_Tb427v10</td>\n",
       "      <td>1164</td>\n",
       "      <td>3749</td>\n",
       "      <td>-</td>\n",
       "      <td>2586</td>\n",
       "      <td>0</td>\n",
       "      <td>0</td>\n",
       "      <td>0</td>\n",
       "      <td>0</td>\n",
       "      <td>0</td>\n",
       "    </tr>\n",
       "    <tr>\n",
       "      <th>Tb427_010005100</th>\n",
       "      <td>Chr1_core_Tb427v10</td>\n",
       "      <td>4031</td>\n",
       "      <td>5179</td>\n",
       "      <td>-</td>\n",
       "      <td>1149</td>\n",
       "      <td>0</td>\n",
       "      <td>0</td>\n",
       "      <td>0</td>\n",
       "      <td>0</td>\n",
       "      <td>0</td>\n",
       "    </tr>\n",
       "    <tr>\n",
       "      <th>Tb427_010005200:pseudogene</th>\n",
       "      <td>Chr1_core_Tb427v10</td>\n",
       "      <td>5303</td>\n",
       "      <td>6147</td>\n",
       "      <td>+</td>\n",
       "      <td>845</td>\n",
       "      <td>0</td>\n",
       "      <td>0</td>\n",
       "      <td>0</td>\n",
       "      <td>0</td>\n",
       "      <td>0</td>\n",
       "    </tr>\n",
       "    <tr>\n",
       "      <th>Tb427_010005300</th>\n",
       "      <td>Chr1_core_Tb427v10</td>\n",
       "      <td>11292</td>\n",
       "      <td>12113</td>\n",
       "      <td>-</td>\n",
       "      <td>822</td>\n",
       "      <td>0</td>\n",
       "      <td>0</td>\n",
       "      <td>0</td>\n",
       "      <td>0</td>\n",
       "      <td>0</td>\n",
       "    </tr>\n",
       "    <tr>\n",
       "      <th>Tb427_010005400</th>\n",
       "      <td>Chr1_core_Tb427v10</td>\n",
       "      <td>12514</td>\n",
       "      <td>15903</td>\n",
       "      <td>-</td>\n",
       "      <td>3390</td>\n",
       "      <td>0</td>\n",
       "      <td>0</td>\n",
       "      <td>0</td>\n",
       "      <td>0</td>\n",
       "      <td>0</td>\n",
       "    </tr>\n",
       "  </tbody>\n",
       "</table>\n",
       "</div>"
      ],
      "text/plain": [
       "                                          cchr  cstart   cend cstrand  \\\n",
       "gene_id                                                                 \n",
       "Tb427_010005000             Chr1_core_Tb427v10    1164   3749       -   \n",
       "Tb427_010005100             Chr1_core_Tb427v10    4031   5179       -   \n",
       "Tb427_010005200:pseudogene  Chr1_core_Tb427v10    5303   6147       +   \n",
       "Tb427_010005300             Chr1_core_Tb427v10   11292  12113       -   \n",
       "Tb427_010005400             Chr1_core_Tb427v10   12514  15903       -   \n",
       "\n",
       "                            cgenelen  counts  counts_ff  counts_fr  counts_rf  \\\n",
       "gene_id                                                                         \n",
       "Tb427_010005000                 2586       0          0          0          0   \n",
       "Tb427_010005100                 1149       0          0          0          0   \n",
       "Tb427_010005200:pseudogene       845       0          0          0          0   \n",
       "Tb427_010005300                  822       0          0          0          0   \n",
       "Tb427_010005400                 3390       0          0          0          0   \n",
       "\n",
       "                            counts_rr  \n",
       "gene_id                                \n",
       "Tb427_010005000                     0  \n",
       "Tb427_010005100                     0  \n",
       "Tb427_010005200:pseudogene          0  \n",
       "Tb427_010005300                     0  \n",
       "Tb427_010005400                     0  "
      ]
     },
     "execution_count": 9,
     "metadata": {},
     "output_type": "execute_result"
    }
   ],
   "source": [
    "path_to_counts = os.path.join(_EXPERIMENT,'counts.txt')\n",
    "counts = pd.read_csv(path_to_counts, sep='\\t', index_col=None, comment='#')\n",
    "print(counts.head())\n",
    "counts.columns = ['gene_id', 'cchr', 'cstart', 'cend', 'cstrand', 'cgenelen',\n",
    "                  'counts','counts_ff','counts_fr','counts_rf','counts_rr']\n",
    "counts.set_index('gene_id',inplace=True)\n",
    "print(counts.shape)\n",
    "counts.head()"
   ]
  },
  {
   "cell_type": "markdown",
   "metadata": {},
   "source": [
    "## Merge counts and GFF file"
   ]
  },
  {
   "cell_type": "code",
   "execution_count": 10,
   "metadata": {
    "require": [
     "base/js/events",
     "datatables.net",
     "d3",
     "chartjs",
     "dt-config",
     "dt-components",
     "dt-graph-objects",
     "dt-toolbar",
     "dt-tooltips",
     "jupyter-datatables"
    ]
   },
   "outputs": [
    {
     "name": "stdout",
     "output_type": "stream",
     "text": [
      "(17243, 15)\n"
     ]
    },
    {
     "data": {
      "text/html": [
       "<div>\n",
       "<style scoped>\n",
       "    .dataframe tbody tr th:only-of-type {\n",
       "        vertical-align: middle;\n",
       "    }\n",
       "\n",
       "    .dataframe tbody tr th {\n",
       "        vertical-align: top;\n",
       "    }\n",
       "\n",
       "    .dataframe thead th {\n",
       "        text-align: right;\n",
       "    }\n",
       "</style>\n",
       "<table border=\"1\" class=\"dataframe\">\n",
       "  <thead>\n",
       "    <tr style=\"text-align: right;\">\n",
       "      <th></th>\n",
       "      <th>gene_id</th>\n",
       "      <th>cchr</th>\n",
       "      <th>cstart</th>\n",
       "      <th>cend</th>\n",
       "      <th>cstrand</th>\n",
       "      <th>cgenelen</th>\n",
       "      <th>counts</th>\n",
       "      <th>counts_ff</th>\n",
       "      <th>counts_fr</th>\n",
       "      <th>counts_rf</th>\n",
       "      <th>counts_rr</th>\n",
       "      <th>gene_chr</th>\n",
       "      <th>gene_start</th>\n",
       "      <th>gene_end</th>\n",
       "      <th>gene_strand</th>\n",
       "      <th>gene_desc</th>\n",
       "    </tr>\n",
       "  </thead>\n",
       "  <tbody>\n",
       "    <tr>\n",
       "      <th>0</th>\n",
       "      <td>Tb427_010005000</td>\n",
       "      <td>Chr1_core_Tb427v10</td>\n",
       "      <td>1164</td>\n",
       "      <td>3749</td>\n",
       "      <td>-</td>\n",
       "      <td>2586</td>\n",
       "      <td>0</td>\n",
       "      <td>0</td>\n",
       "      <td>0</td>\n",
       "      <td>0</td>\n",
       "      <td>0</td>\n",
       "      <td>Chr1_core_Tb427v10</td>\n",
       "      <td>1164</td>\n",
       "      <td>3749</td>\n",
       "      <td>-</td>\n",
       "      <td>Reverse transcriptase (RNA-dependent DNA polym...</td>\n",
       "    </tr>\n",
       "    <tr>\n",
       "      <th>1</th>\n",
       "      <td>Tb427_010005100</td>\n",
       "      <td>Chr1_core_Tb427v10</td>\n",
       "      <td>4031</td>\n",
       "      <td>5179</td>\n",
       "      <td>-</td>\n",
       "      <td>1149</td>\n",
       "      <td>0</td>\n",
       "      <td>0</td>\n",
       "      <td>0</td>\n",
       "      <td>0</td>\n",
       "      <td>0</td>\n",
       "      <td>Chr1_core_Tb427v10</td>\n",
       "      <td>4031</td>\n",
       "      <td>5179</td>\n",
       "      <td>-</td>\n",
       "      <td>Endonuclease-reverse transcriptaseC putative</td>\n",
       "    </tr>\n",
       "    <tr>\n",
       "      <th>2</th>\n",
       "      <td>Tb427_010005200:pseudogene</td>\n",
       "      <td>Chr1_core_Tb427v10</td>\n",
       "      <td>5303</td>\n",
       "      <td>6147</td>\n",
       "      <td>+</td>\n",
       "      <td>845</td>\n",
       "      <td>0</td>\n",
       "      <td>0</td>\n",
       "      <td>0</td>\n",
       "      <td>0</td>\n",
       "      <td>0</td>\n",
       "      <td>Chr1_core_Tb427v10</td>\n",
       "      <td>5303</td>\n",
       "      <td>6147</td>\n",
       "      <td>+</td>\n",
       "      <td>Trypanosome variant surface glycoprotein C-ter...</td>\n",
       "    </tr>\n",
       "    <tr>\n",
       "      <th>3</th>\n",
       "      <td>Tb427_010005300</td>\n",
       "      <td>Chr1_core_Tb427v10</td>\n",
       "      <td>11292</td>\n",
       "      <td>12113</td>\n",
       "      <td>-</td>\n",
       "      <td>822</td>\n",
       "      <td>0</td>\n",
       "      <td>0</td>\n",
       "      <td>0</td>\n",
       "      <td>0</td>\n",
       "      <td>0</td>\n",
       "      <td>Chr1_core_Tb427v10</td>\n",
       "      <td>11292</td>\n",
       "      <td>12113</td>\n",
       "      <td>-</td>\n",
       "      <td>hypothetical proteinC conserved</td>\n",
       "    </tr>\n",
       "    <tr>\n",
       "      <th>4</th>\n",
       "      <td>Tb427_010005400</td>\n",
       "      <td>Chr1_core_Tb427v10</td>\n",
       "      <td>12514</td>\n",
       "      <td>15903</td>\n",
       "      <td>-</td>\n",
       "      <td>3390</td>\n",
       "      <td>0</td>\n",
       "      <td>0</td>\n",
       "      <td>0</td>\n",
       "      <td>0</td>\n",
       "      <td>0</td>\n",
       "      <td>Chr1_core_Tb427v10</td>\n",
       "      <td>12514</td>\n",
       "      <td>15903</td>\n",
       "      <td>-</td>\n",
       "      <td>RNA polymerase beta subunit/RNA polymerase Rpb...</td>\n",
       "    </tr>\n",
       "  </tbody>\n",
       "</table>\n",
       "</div>"
      ],
      "text/plain": [
       "                      gene_id                cchr  cstart   cend cstrand  \\\n",
       "0             Tb427_010005000  Chr1_core_Tb427v10    1164   3749       -   \n",
       "1             Tb427_010005100  Chr1_core_Tb427v10    4031   5179       -   \n",
       "2  Tb427_010005200:pseudogene  Chr1_core_Tb427v10    5303   6147       +   \n",
       "3             Tb427_010005300  Chr1_core_Tb427v10   11292  12113       -   \n",
       "4             Tb427_010005400  Chr1_core_Tb427v10   12514  15903       -   \n",
       "\n",
       "   cgenelen  counts  counts_ff  counts_fr  counts_rf  counts_rr  \\\n",
       "0      2586       0          0          0          0          0   \n",
       "1      1149       0          0          0          0          0   \n",
       "2       845       0          0          0          0          0   \n",
       "3       822       0          0          0          0          0   \n",
       "4      3390       0          0          0          0          0   \n",
       "\n",
       "             gene_chr  gene_start  gene_end gene_strand  \\\n",
       "0  Chr1_core_Tb427v10        1164      3749           -   \n",
       "1  Chr1_core_Tb427v10        4031      5179           -   \n",
       "2  Chr1_core_Tb427v10        5303      6147           +   \n",
       "3  Chr1_core_Tb427v10       11292     12113           -   \n",
       "4  Chr1_core_Tb427v10       12514     15903           -   \n",
       "\n",
       "                                           gene_desc  \n",
       "0  Reverse transcriptase (RNA-dependent DNA polym...  \n",
       "1       Endonuclease-reverse transcriptaseC putative  \n",
       "2  Trypanosome variant surface glycoprotein C-ter...  \n",
       "3                    hypothetical proteinC conserved  \n",
       "4  RNA polymerase beta subunit/RNA polymerase Rpb...  "
      ]
     },
     "execution_count": 10,
     "metadata": {},
     "output_type": "execute_result"
    }
   ],
   "source": [
    "genes = counts.join(gff)\n",
    "print(genes.shape)\n",
    "genes.head(10)\n",
    "genes.reset_index(drop=False,inplace=True)\n",
    "genes.head()"
   ]
  },
  {
   "cell_type": "markdown",
   "metadata": {},
   "source": [
    "## Find region of interest"
   ]
  },
  {
   "cell_type": "code",
   "execution_count": 11,
   "metadata": {},
   "outputs": [],
   "source": [
    "def test(genes, peaks, gene):\n",
    "    gene_start = genes.loc[gene]['gene_start']\n",
    "    gene_end = genes.loc[gene]['gene_end']\n",
    "    gene_chr = genes.loc[gene]['gene_chr']\n",
    "    temp_res = []\n",
    "    for peak in peaks.index.values:\n",
    "        peak_start = peaks.loc[peak]['region_start']\n",
    "        peak_end = peaks.loc[peak]['region_end']\n",
    "        peak_chr = peaks.loc[peak]['region_chr'] \n",
    "        region_name = peaks.loc[peak]['region_name']\n",
    "        region_count = peaks.loc[peak]['region_pileup']\n",
    "        if (gene_chr == peak_chr):\n",
    "            if (peak_start-2000 <= gene_start <= peak_end+2000) or (peak_start-2000 <= gene_end <= peak_end+2000):\n",
    "                temp_res.append(region_name)\n",
    "    if len(temp_res)>0:\n",
    "        return (gene,';'.join(temp_res))\n",
    "    else:\n",
    "        return (gene,'NONE')"
   ]
  },
  {
   "cell_type": "code",
   "execution_count": 12,
   "metadata": {},
   "outputs": [
    {
     "name": "stdout",
     "output_type": "stream",
     "text": [
      "Number of processors:  56\n"
     ]
    }
   ],
   "source": [
    "import multiprocessing as mp\n",
    "print(\"Number of processors: \", mp.cpu_count())\n",
    "#pool = mp.Pool(mp.cpu_count())\n",
    "pool = mp.Pool(8)"
   ]
  },
  {
   "cell_type": "code",
   "execution_count": 13,
   "metadata": {},
   "outputs": [],
   "source": [
    "results = [pool.apply_async(test, args=(genes, peaks, gene)) for gene in genes.index.values]\n",
    "pool.close()"
   ]
  },
  {
   "cell_type": "code",
   "execution_count": 14,
   "metadata": {},
   "outputs": [
    {
     "name": "stdout",
     "output_type": "stream",
     "text": [
      "CPU times: user 3min 3s, sys: 1min 39s, total: 4min 43s\n",
      "Wall time: 5min 4s\n"
     ]
    }
   ],
   "source": [
    "%%time\n",
    "results = [n.get() for n in results]"
   ]
  },
  {
   "cell_type": "code",
   "execution_count": 15,
   "metadata": {},
   "outputs": [],
   "source": [
    "#%%time\n",
    "#results = [n.get() for n in results]"
   ]
  },
  {
   "cell_type": "code",
   "execution_count": 16,
   "metadata": {},
   "outputs": [
    {
     "data": {
      "text/html": [
       "<div>\n",
       "<style scoped>\n",
       "    .dataframe tbody tr th:only-of-type {\n",
       "        vertical-align: middle;\n",
       "    }\n",
       "\n",
       "    .dataframe tbody tr th {\n",
       "        vertical-align: top;\n",
       "    }\n",
       "\n",
       "    .dataframe thead th {\n",
       "        text-align: right;\n",
       "    }\n",
       "</style>\n",
       "<table border=\"1\" class=\"dataframe\">\n",
       "  <thead>\n",
       "    <tr style=\"text-align: right;\">\n",
       "      <th></th>\n",
       "      <th>region_name</th>\n",
       "    </tr>\n",
       "    <tr>\n",
       "      <th>genes</th>\n",
       "      <th></th>\n",
       "    </tr>\n",
       "  </thead>\n",
       "  <tbody>\n",
       "    <tr>\n",
       "      <th>0</th>\n",
       "      <td>NONE</td>\n",
       "    </tr>\n",
       "    <tr>\n",
       "      <th>1</th>\n",
       "      <td>NONE</td>\n",
       "    </tr>\n",
       "    <tr>\n",
       "      <th>2</th>\n",
       "      <td>NONE</td>\n",
       "    </tr>\n",
       "    <tr>\n",
       "      <th>3</th>\n",
       "      <td>NONE</td>\n",
       "    </tr>\n",
       "    <tr>\n",
       "      <th>4</th>\n",
       "      <td>NONE</td>\n",
       "    </tr>\n",
       "  </tbody>\n",
       "</table>\n",
       "</div>"
      ],
      "text/plain": [
       "      region_name\n",
       "genes            \n",
       "0            NONE\n",
       "1            NONE\n",
       "2            NONE\n",
       "3            NONE\n",
       "4            NONE"
      ]
     },
     "execution_count": 16,
     "metadata": {},
     "output_type": "execute_result"
    }
   ],
   "source": [
    "temp = pd.DataFrame()\n",
    "temp['genes']=[n[0] for n in results]\n",
    "temp['region_name']=[n[1] for n in results]\n",
    "temp.set_index('genes',inplace=True)\n",
    "temp.head()"
   ]
  },
  {
   "cell_type": "code",
   "execution_count": 17,
   "metadata": {},
   "outputs": [
    {
     "data": {
      "text/html": [
       "<div>\n",
       "<style scoped>\n",
       "    .dataframe tbody tr th:only-of-type {\n",
       "        vertical-align: middle;\n",
       "    }\n",
       "\n",
       "    .dataframe tbody tr th {\n",
       "        vertical-align: top;\n",
       "    }\n",
       "\n",
       "    .dataframe thead th {\n",
       "        text-align: right;\n",
       "    }\n",
       "</style>\n",
       "<table border=\"1\" class=\"dataframe\">\n",
       "  <thead>\n",
       "    <tr style=\"text-align: right;\">\n",
       "      <th></th>\n",
       "      <th>gene_id</th>\n",
       "      <th>cchr</th>\n",
       "      <th>cstart</th>\n",
       "      <th>cend</th>\n",
       "      <th>cstrand</th>\n",
       "      <th>cgenelen</th>\n",
       "      <th>counts</th>\n",
       "      <th>counts_ff</th>\n",
       "      <th>counts_fr</th>\n",
       "      <th>counts_rf</th>\n",
       "      <th>counts_rr</th>\n",
       "      <th>gene_chr</th>\n",
       "      <th>gene_start</th>\n",
       "      <th>gene_end</th>\n",
       "      <th>gene_strand</th>\n",
       "      <th>gene_desc</th>\n",
       "      <th>region_name</th>\n",
       "    </tr>\n",
       "  </thead>\n",
       "  <tbody>\n",
       "    <tr>\n",
       "      <th>0</th>\n",
       "      <td>Tb427_010005000</td>\n",
       "      <td>Chr1_core_Tb427v10</td>\n",
       "      <td>1164</td>\n",
       "      <td>3749</td>\n",
       "      <td>-</td>\n",
       "      <td>2586</td>\n",
       "      <td>0</td>\n",
       "      <td>0</td>\n",
       "      <td>0</td>\n",
       "      <td>0</td>\n",
       "      <td>0</td>\n",
       "      <td>Chr1_core_Tb427v10</td>\n",
       "      <td>1164</td>\n",
       "      <td>3749</td>\n",
       "      <td>-</td>\n",
       "      <td>Reverse transcriptase (RNA-dependent DNA polym...</td>\n",
       "      <td>NONE</td>\n",
       "    </tr>\n",
       "    <tr>\n",
       "      <th>1</th>\n",
       "      <td>Tb427_010005100</td>\n",
       "      <td>Chr1_core_Tb427v10</td>\n",
       "      <td>4031</td>\n",
       "      <td>5179</td>\n",
       "      <td>-</td>\n",
       "      <td>1149</td>\n",
       "      <td>0</td>\n",
       "      <td>0</td>\n",
       "      <td>0</td>\n",
       "      <td>0</td>\n",
       "      <td>0</td>\n",
       "      <td>Chr1_core_Tb427v10</td>\n",
       "      <td>4031</td>\n",
       "      <td>5179</td>\n",
       "      <td>-</td>\n",
       "      <td>Endonuclease-reverse transcriptaseC putative</td>\n",
       "      <td>NONE</td>\n",
       "    </tr>\n",
       "    <tr>\n",
       "      <th>2</th>\n",
       "      <td>Tb427_010005200:pseudogene</td>\n",
       "      <td>Chr1_core_Tb427v10</td>\n",
       "      <td>5303</td>\n",
       "      <td>6147</td>\n",
       "      <td>+</td>\n",
       "      <td>845</td>\n",
       "      <td>0</td>\n",
       "      <td>0</td>\n",
       "      <td>0</td>\n",
       "      <td>0</td>\n",
       "      <td>0</td>\n",
       "      <td>Chr1_core_Tb427v10</td>\n",
       "      <td>5303</td>\n",
       "      <td>6147</td>\n",
       "      <td>+</td>\n",
       "      <td>Trypanosome variant surface glycoprotein C-ter...</td>\n",
       "      <td>NONE</td>\n",
       "    </tr>\n",
       "    <tr>\n",
       "      <th>3</th>\n",
       "      <td>Tb427_010005300</td>\n",
       "      <td>Chr1_core_Tb427v10</td>\n",
       "      <td>11292</td>\n",
       "      <td>12113</td>\n",
       "      <td>-</td>\n",
       "      <td>822</td>\n",
       "      <td>0</td>\n",
       "      <td>0</td>\n",
       "      <td>0</td>\n",
       "      <td>0</td>\n",
       "      <td>0</td>\n",
       "      <td>Chr1_core_Tb427v10</td>\n",
       "      <td>11292</td>\n",
       "      <td>12113</td>\n",
       "      <td>-</td>\n",
       "      <td>hypothetical proteinC conserved</td>\n",
       "      <td>NONE</td>\n",
       "    </tr>\n",
       "    <tr>\n",
       "      <th>4</th>\n",
       "      <td>Tb427_010005400</td>\n",
       "      <td>Chr1_core_Tb427v10</td>\n",
       "      <td>12514</td>\n",
       "      <td>15903</td>\n",
       "      <td>-</td>\n",
       "      <td>3390</td>\n",
       "      <td>0</td>\n",
       "      <td>0</td>\n",
       "      <td>0</td>\n",
       "      <td>0</td>\n",
       "      <td>0</td>\n",
       "      <td>Chr1_core_Tb427v10</td>\n",
       "      <td>12514</td>\n",
       "      <td>15903</td>\n",
       "      <td>-</td>\n",
       "      <td>RNA polymerase beta subunit/RNA polymerase Rpb...</td>\n",
       "      <td>NONE</td>\n",
       "    </tr>\n",
       "  </tbody>\n",
       "</table>\n",
       "</div>"
      ],
      "text/plain": [
       "                      gene_id                cchr  cstart   cend cstrand  \\\n",
       "0             Tb427_010005000  Chr1_core_Tb427v10    1164   3749       -   \n",
       "1             Tb427_010005100  Chr1_core_Tb427v10    4031   5179       -   \n",
       "2  Tb427_010005200:pseudogene  Chr1_core_Tb427v10    5303   6147       +   \n",
       "3             Tb427_010005300  Chr1_core_Tb427v10   11292  12113       -   \n",
       "4             Tb427_010005400  Chr1_core_Tb427v10   12514  15903       -   \n",
       "\n",
       "   cgenelen  counts  counts_ff  counts_fr  counts_rf  counts_rr  \\\n",
       "0      2586       0          0          0          0          0   \n",
       "1      1149       0          0          0          0          0   \n",
       "2       845       0          0          0          0          0   \n",
       "3       822       0          0          0          0          0   \n",
       "4      3390       0          0          0          0          0   \n",
       "\n",
       "             gene_chr  gene_start  gene_end gene_strand  \\\n",
       "0  Chr1_core_Tb427v10        1164      3749           -   \n",
       "1  Chr1_core_Tb427v10        4031      5179           -   \n",
       "2  Chr1_core_Tb427v10        5303      6147           +   \n",
       "3  Chr1_core_Tb427v10       11292     12113           -   \n",
       "4  Chr1_core_Tb427v10       12514     15903           -   \n",
       "\n",
       "                                           gene_desc region_name  \n",
       "0  Reverse transcriptase (RNA-dependent DNA polym...        NONE  \n",
       "1       Endonuclease-reverse transcriptaseC putative        NONE  \n",
       "2  Trypanosome variant surface glycoprotein C-ter...        NONE  \n",
       "3                    hypothetical proteinC conserved        NONE  \n",
       "4  RNA polymerase beta subunit/RNA polymerase Rpb...        NONE  "
      ]
     },
     "execution_count": 17,
     "metadata": {},
     "output_type": "execute_result"
    }
   ],
   "source": [
    "genes = genes.join(temp)\n",
    "genes.head()"
   ]
  },
  {
   "cell_type": "markdown",
   "metadata": {},
   "source": [
    "## Add region to results\n",
    "\n",
    "this is the full result table"
   ]
  },
  {
   "cell_type": "code",
   "execution_count": 18,
   "metadata": {
    "require": [
     "base/js/events",
     "datatables.net",
     "d3",
     "chartjs",
     "dt-config",
     "dt-components",
     "dt-graph-objects",
     "dt-toolbar",
     "dt-tooltips",
     "jupyter-datatables"
    ]
   },
   "outputs": [
    {
     "name": "stdout",
     "output_type": "stream",
     "text": [
      "(17243, 22)\n"
     ]
    }
   ],
   "source": [
    "genes = pd.merge(genes, peaks, right_on='region_name', left_on='region_name', how='left')\n",
    "print(genes.shape)\n",
    "#genes.head(10)"
   ]
  },
  {
   "cell_type": "code",
   "execution_count": 19,
   "metadata": {},
   "outputs": [
    {
     "data": {
      "text/html": [
       "<div>\n",
       "<style scoped>\n",
       "    .dataframe tbody tr th:only-of-type {\n",
       "        vertical-align: middle;\n",
       "    }\n",
       "\n",
       "    .dataframe tbody tr th {\n",
       "        vertical-align: top;\n",
       "    }\n",
       "\n",
       "    .dataframe thead th {\n",
       "        text-align: right;\n",
       "    }\n",
       "</style>\n",
       "<table border=\"1\" class=\"dataframe\">\n",
       "  <thead>\n",
       "    <tr style=\"text-align: right;\">\n",
       "      <th></th>\n",
       "      <th>gene_id</th>\n",
       "      <th>cchr</th>\n",
       "      <th>cstart</th>\n",
       "      <th>cend</th>\n",
       "      <th>cstrand</th>\n",
       "      <th>cgenelen</th>\n",
       "      <th>counts</th>\n",
       "      <th>counts_ff</th>\n",
       "      <th>counts_fr</th>\n",
       "      <th>counts_rf</th>\n",
       "      <th>...</th>\n",
       "      <th>gene_start</th>\n",
       "      <th>gene_end</th>\n",
       "      <th>gene_strand</th>\n",
       "      <th>gene_desc</th>\n",
       "      <th>region_name</th>\n",
       "      <th>region_chr</th>\n",
       "      <th>region_start</th>\n",
       "      <th>region_end</th>\n",
       "      <th>region_length</th>\n",
       "      <th>region_pileup</th>\n",
       "    </tr>\n",
       "  </thead>\n",
       "  <tbody>\n",
       "    <tr>\n",
       "      <th>10619</th>\n",
       "      <td>Tb427_110139800</td>\n",
       "      <td>Chr11_core_Tb427v10</td>\n",
       "      <td>3346216</td>\n",
       "      <td>3348525</td>\n",
       "      <td>+</td>\n",
       "      <td>2310</td>\n",
       "      <td>20232051</td>\n",
       "      <td>18895432</td>\n",
       "      <td>17</td>\n",
       "      <td>1126513</td>\n",
       "      <td>...</td>\n",
       "      <td>3346216</td>\n",
       "      <td>3348525</td>\n",
       "      <td>+</td>\n",
       "      <td>Protein kinase domain/Protein tyrosine kinase/...</td>\n",
       "      <td>NA_peak_4</td>\n",
       "      <td>Chr11_core_Tb427v10</td>\n",
       "      <td>3347598.0</td>\n",
       "      <td>3347820.0</td>\n",
       "      <td>223.0</td>\n",
       "      <td>1323.33</td>\n",
       "    </tr>\n",
       "  </tbody>\n",
       "</table>\n",
       "<p>1 rows × 22 columns</p>\n",
       "</div>"
      ],
      "text/plain": [
       "               gene_id                 cchr   cstart     cend cstrand  \\\n",
       "10619  Tb427_110139800  Chr11_core_Tb427v10  3346216  3348525       +   \n",
       "\n",
       "       cgenelen    counts  counts_ff  counts_fr  counts_rf  ...  gene_start  \\\n",
       "10619      2310  20232051   18895432         17    1126513  ...     3346216   \n",
       "\n",
       "      gene_end  gene_strand  \\\n",
       "10619  3348525            +   \n",
       "\n",
       "                                               gene_desc region_name  \\\n",
       "10619  Protein kinase domain/Protein tyrosine kinase/...   NA_peak_4   \n",
       "\n",
       "                region_chr region_start region_end  region_length  \\\n",
       "10619  Chr11_core_Tb427v10    3347598.0  3347820.0          223.0   \n",
       "\n",
       "       region_pileup  \n",
       "10619        1323.33  \n",
       "\n",
       "[1 rows x 22 columns]"
      ]
     },
     "execution_count": 19,
     "metadata": {},
     "output_type": "execute_result"
    }
   ],
   "source": [
    "genes.sort_values(['counts','region_pileup']).dropna().tail(5)"
   ]
  },
  {
   "cell_type": "code",
   "execution_count": 20,
   "metadata": {},
   "outputs": [],
   "source": [
    "genes.to_csv(_EXPERIMENT+'/res.csv')"
   ]
  },
  {
   "cell_type": "markdown",
   "metadata": {},
   "source": [
    "## Plot Genome Coverage"
   ]
  },
  {
   "cell_type": "code",
   "execution_count": 21,
   "metadata": {},
   "outputs": [
    {
     "data": {
      "image/png": "[encoded data removed]",
      "text/plain": [
       "<IPython.core.display.Image object>"
      ]
     },
     "execution_count": 21,
     "metadata": {},
     "output_type": "execute_result"
    }
   ],
   "source": [
    "Image(filename=os.path.join(_EXPERIMENT,_FASTQ_HEADER+'coverage_d.png')) "
   ]
  }
 ],
 "metadata": {
  "finalized": {
   "timestamp": 1582024595702,
   "trusted": true
  },
  "kernelspec": {
   "display_name": "Python 3",
   "language": "python",
   "name": "python3"
  },
  "language_info": {
   "codemirror_mode": {
    "name": "ipython",
    "version": 3
   },
   "file_extension": ".py",
   "mimetype": "text/x-python",
   "name": "python",
   "nbconvert_exporter": "python",
   "pygments_lexer": "ipython3",
   "version": "3.7.3"
  },
  "require": {
   "paths": {
    "buttons.colvis": "https://cdn.datatables.net/buttons/1.5.6/js/buttons.colVis.min",
    "buttons.flash": "https://cdn.datatables.net/buttons/1.5.6/js/buttons.flash.min",
    "buttons.html5": "https://cdn.datatables.net/buttons/1.5.6/js/buttons.html5.min",
    "buttons.print": "https://cdn.datatables.net/buttons/1.5.6/js/buttons.print.min",
    "chartjs": "https://cdnjs.cloudflare.com/ajax/libs/Chart.js/2.8.0/Chart",
    "d3": "https://d3js.org/d3.v5.min",
    "d3-array": "https://d3js.org/d3-array.v2.min",
    "datatables.net": "https://cdn.datatables.net/1.10.18/js/jquery.dataTables",
    "datatables.net-buttons": "https://cdn.datatables.net/buttons/1.5.6/js/dataTables.buttons.min",
    "datatables.responsive": "https://cdn.datatables.net/responsive/2.2.2/js/dataTables.responsive.min",
    "datatables.scroller": "https://cdn.datatables.net/scroller/2.0.0/js/dataTables.scroller.min",
    "datatables.select": "https://cdn.datatables.net/select/1.3.0/js/dataTables.select.min",
    "jszip": "https://cdnjs.cloudflare.com/ajax/libs/jszip/2.5.0/jszip.min",
    "moment": "https://cdnjs.cloudflare.com/ajax/libs/moment.js/2.8.0/moment",
    "pdfmake": "https://cdnjs.cloudflare.com/ajax/libs/pdfmake/0.1.36/pdfmake.min",
    "vfsfonts": "https://cdnjs.cloudflare.com/ajax/libs/pdfmake/0.1.36/vfs_fonts"
   },
   "shim": {
    "buttons.colvis": {
     "deps": [
      "jszip",
      "datatables.net-buttons"
     ]
    },
    "buttons.flash": {
     "deps": [
      "jszip",
      "datatables.net-buttons"
     ]
    },
    "buttons.html5": {
     "deps": [
      "jszip",
      "datatables.net-buttons"
     ]
    },
    "buttons.print": {
     "deps": [
      "jszip",
      "datatables.net-buttons"
     ]
    },
    "chartjs": {
     "deps": [
      "moment"
     ]
    },
    "datatables.net": {
     "exports": "$.fn.dataTable"
    },
    "datatables.net-buttons": {
     "deps": [
      "datatables.net"
     ]
    },
    "pdfmake": {
     "deps": [
      "datatables.net"
     ]
    },
    "vfsfonts": {
     "deps": [
      "datatables.net"
     ]
    }
   }
  },
  "toc": {
   "base_numbering": 1,
   "nav_menu": {},
   "number_sections": true,
   "sideBar": true,
   "skip_h1_title": false,
   "title_cell": "Table of Contents",
   "title_sidebar": "Contents",
   "toc_cell": false,
   "toc_position": {},
   "toc_section_display": true,
   "toc_window_display": true
  }
 },
 "nbformat": 4,
 "nbformat_minor": 2
}
