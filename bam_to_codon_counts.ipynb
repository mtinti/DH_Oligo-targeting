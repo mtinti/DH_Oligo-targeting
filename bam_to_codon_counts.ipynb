{
 "cells": [
  {
   "cell_type": "code",
   "execution_count": 7,
   "metadata": {},
   "outputs": [],
   "source": [
    "import pandas as pd\n",
    "import os\n",
    "import pysam\n",
    "from tqdm import tqdm_notebook\n",
    "from subprocess import Popen, PIPE\n",
    "import numpy as np\n",
    "from Bio import SeqIO\n",
    "from Bio.Seq import Seq\n",
    "import gzip\n",
    "import re\n",
    "import seaborn as sns\n",
    "import matplotlib.pyplot as plt"
   ]
  },
  {
   "cell_type": "code",
   "execution_count": 8,
   "metadata": {},
   "outputs": [],
   "source": [
    "gencode = {\n",
    "    'ATA':'I', 'ATC':'I', 'ATT':'I', 'ATG':'M',\n",
    "    'ACA':'T', 'ACC':'T', 'ACG':'T', 'ACT':'T',\n",
    "    'AAC':'N', 'AAT':'N', 'AAA':'K', 'AAG':'K',\n",
    "    'AGC':'S', 'AGT':'S', 'AGA':'R', 'AGG':'R',\n",
    "    'CTA':'L', 'CTC':'L', 'CTG':'L', 'CTT':'L',\n",
    "    'CCA':'P', 'CCC':'P', 'CCG':'P', 'CCT':'P',\n",
    "    'CAC':'H', 'CAT':'H', 'CAA':'Q', 'CAG':'Q',\n",
    "    'CGA':'R', 'CGC':'R', 'CGG':'R', 'CGT':'R',\n",
    "    'GTA':'V', 'GTC':'V', 'GTG':'V', 'GTT':'V',\n",
    "    'GCA':'A', 'GCC':'A', 'GCG':'A', 'GCT':'A',\n",
    "    'GAC':'D', 'GAT':'D', 'GAA':'E', 'GAG':'E',\n",
    "    'GGA':'G', 'GGC':'G', 'GGG':'G', 'GGT':'G',\n",
    "    'TCA':'S', 'TCC':'S', 'TCG':'S', 'TCT':'S',\n",
    "    'TTC':'F', 'TTT':'F', 'TTA':'L', 'TTG':'L',\n",
    "    'TAC':'Y', 'TAT':'Y', 'TAA':'*', 'TAG':'*',\n",
    "    'TGC':'C', 'TGT':'C', 'TGA':'*', 'TGG':'W'}\n",
    "gene_count = {}\n",
    "for n in gencode:\n",
    "    gene_count[n]=0\n",
    "gene_count['failed']=0"
   ]
  },
  {
   "cell_type": "code",
   "execution_count": 9,
   "metadata": {},
   "outputs": [
    {
     "data": {
      "text/plain": [
       "0"
      ]
     },
     "execution_count": 9,
     "metadata": {},
     "output_type": "execute_result"
    }
   ],
   "source": [
    "#gene_count\n",
    "gene_count['ATA']"
   ]
  },
  {
   "cell_type": "code",
   "execution_count": 10,
   "metadata": {},
   "outputs": [],
   "source": [
    "#'3347688 first base of degenerate codon'\n",
    "#'3347690 first base of degenerate codon'\n",
    "#'3347658 first base of range'\n",
    "#'3347721 last base of range'"
   ]
  },
  {
   "cell_type": "code",
   "execution_count": null,
   "metadata": {},
   "outputs": [],
   "source": []
  },
  {
   "cell_type": "code",
   "execution_count": 11,
   "metadata": {},
   "outputs": [],
   "source": [
    "\n",
    "#codon_count"
   ]
  },
  {
   "cell_type": "code",
   "execution_count": 12,
   "metadata": {},
   "outputs": [],
   "source": [
    "#https://www.biostars.org/p/1890/\n",
    "def bam_read_count(bamfile):\n",
    "    \"\"\" Return a tuple of the number of mapped and unmapped reads in a bam file\n",
    "        Bam file reference sorted and indexed\n",
    "    \"\"\"\n",
    "    p = Popen(['samtools', 'idxstats', bamfile], stdout=PIPE)\n",
    "    mapped = 0\n",
    "    unmapped = 0\n",
    "    for line in p.stdout:\n",
    "        rname, rlen, nm, nu = line.rstrip().split()\n",
    "        mapped += int(nm)\n",
    "        unmapped += int(nu)\n",
    "    #p.close()\n",
    "    return (mapped, unmapped)\n",
    "\n",
    "def quality_check(read):\n",
    "    if read.is_paired and read.is_proper_pair:\n",
    "        return True\n",
    "    \n",
    "def get_bam_size(infile):\n",
    "    samfile = pysam.AlignmentFile(infile, \"rb\")\n",
    "    iter = samfile.fetch(\"Chr11_core_Tb427v10\", 3347688 , 3347692)\n",
    "    selection=0\n",
    "    tot = 0\n",
    "    for read in tqdm_notebook(iter):\n",
    "        tot+=1\n",
    "        #print(read.query_alignment_qualities)\n",
    "        if quality_check(read):\n",
    "            selection+=1\n",
    "    return tot,selection"
   ]
  },
  {
   "cell_type": "code",
   "execution_count": 12,
   "metadata": {},
   "outputs": [
    {
     "data": {
      "text/plain": [
       "-63"
      ]
     },
     "execution_count": 12,
     "metadata": {},
     "output_type": "execute_result"
    }
   ],
   "source": [
    "\"Chr11_core_Tb427v10\",3347688,3347692,3347658,3347721"
   ]
  },
  {
   "cell_type": "code",
   "execution_count": 3,
   "metadata": {},
   "outputs": [
    {
     "data": {
      "text/plain": [
       "3347659"
      ]
     },
     "execution_count": 3,
     "metadata": {},
     "output_type": "execute_result"
    }
   ],
   "source": [
    "3347689-30"
   ]
  },
  {
   "cell_type": "code",
   "execution_count": 4,
   "metadata": {},
   "outputs": [
    {
     "data": {
      "text/plain": [
       "3347722"
      ]
     },
     "execution_count": 4,
     "metadata": {},
     "output_type": "execute_result"
    }
   ],
   "source": [
    "3347689+33"
   ]
  },
  {
   "cell_type": "code",
   "execution_count": 13,
   "metadata": {},
   "outputs": [
    {
     "data": {
      "text/plain": [
       "-21.0"
      ]
     },
     "execution_count": 13,
     "metadata": {},
     "output_type": "execute_result"
    }
   ],
   "source": [
    "(3347658 - 3347721)/3"
   ]
  },
  {
   "cell_type": "code",
   "execution_count": 6,
   "metadata": {},
   "outputs": [
    {
     "data": {
      "text/plain": [
       "('bamfile', 'bamfile', 'Chr11_core_Tb427v10', 3347689, 3347658, 3347721, '+')"
      ]
     },
     "execution_count": 6,
     "metadata": {},
     "output_type": "execute_result"
    }
   ],
   "source": []
  },
  {
   "cell_type": "code",
   "execution_count": 7,
   "metadata": {},
   "outputs": [],
   "source": [
    "#this work only if the gene is the + strand\n",
    "def get_count(infile):\n",
    "    #print(infile)\n",
    "    experiment = infile.split(os.path.sep)[0]\n",
    "    codon_count = {}\n",
    "    for n in np.arange(3347658,3347721,3):\n",
    "        #print (n)\n",
    "        codon_count[n]=gene_count.copy()\n",
    "\n",
    "    \n",
    "    samfile = pysam.AlignmentFile(infile, \"rb\")\n",
    "    iter = samfile.fetch(\"Chr11_core_Tb427v10\", 3347688 , 3347692)\n",
    "    print('counts reads',experiment)\n",
    "    infile_size = get_bam_size(infile)[0]\n",
    "    print('start analysis',experiment)\n",
    "    counts=0\n",
    "    for read in tqdm_notebook(iter, total=infile_size):\n",
    "        if quality_check(read):\n",
    "            counts+=1\n",
    "            #extract only the region of intereset +/- 10 codons\n",
    "            #around degenerate codon\n",
    "            assembled_sequence = []\n",
    "            assembled_quality = []\n",
    "            assembled_genomic_index = []\n",
    "            skip = 0\n",
    "            for n in zip(read.seq, read.get_aligned_pairs(), read.query_alignment_qualities):\n",
    "                base = n[0]\n",
    "                base_index_in_read = n[1][0]\n",
    "                base_index_in_chr = n[1][1]\n",
    "                base_quality = n[2]\n",
    "                #print(n)\n",
    "                #print(base,base_index_in_read,base_index_in_chr,base_quality)\n",
    "                #test if the base index is in the region of interest\n",
    "                #print(1,base_index_in_chr, str(base_index_in_chr))\n",
    "                if (str(base_index_in_chr) == 'None' ):\n",
    "                    skip=1\n",
    "                    continue\n",
    "\n",
    "                if (base_index_in_chr >= 3347658)  or  (base_index_in_chr <= 3347721):\n",
    "                    assembled_sequence.append(base)\n",
    "                    assembled_quality.append(base_quality)\n",
    "                    assembled_genomic_index.append(base_index_in_chr)\n",
    "\n",
    "\n",
    "            #print (assembled_sequence)\n",
    "            #print (assembled_quality)\n",
    "            #print (assembled_genomic_index)\n",
    "            for bq in assembled_quality:\n",
    "                if bq < 30:\n",
    "                    skip=1\n",
    "                    break\n",
    "\n",
    "            if skip == 0:\n",
    "                for index in assembled_genomic_index:\n",
    "                    if index in codon_count:\n",
    "                        position = assembled_genomic_index.index(index)\n",
    "                        codon = ''.join(assembled_sequence[position:position+3])\n",
    "                        if len(codon) == 3:\n",
    "                            codon_count[index][codon]+=1\n",
    "\n",
    "    res_df = pd.DataFrame.from_dict(codon_count)\n",
    "    return {experiment:res_df}\n"
   ]
  },
  {
   "cell_type": "code",
   "execution_count": 8,
   "metadata": {},
   "outputs": [],
   "source": [
    "#infile = os.path.join('1-Amp','res','1-Amp','V350002156_L1_TRYlhwR021518-521_sorted.bam')\n",
    "#get_count(infile)#"
   ]
  },
  {
   "cell_type": "code",
   "execution_count": null,
   "metadata": {},
   "outputs": [],
   "source": []
  },
  {
   "cell_type": "code",
   "execution_count": 9,
   "metadata": {},
   "outputs": [
    {
     "data": {
      "application/vnd.jupyter.widget-view+json": {
       "model_id": "07c1809a25384897a80a59a4c6ae988c",
       "version_major": 2,
       "version_minor": 0
      },
      "text/plain": [
       "HBox(children=(IntProgress(value=0, max=9), HTML(value='')))"
      ]
     },
     "metadata": {},
     "output_type": "display_data"
    }
   ],
   "source": [
    "all_files = []\n",
    "replace_list = eval(open('vars5.txt').read())\n",
    "for n in tqdm_notebook(replace_list):\n",
    "    infile = os.path.join(n['experiment'],'res',n['experiment'],n['base_fastq']+'sorted.bam')\n",
    "    all_files.append(infile)\n",
    "print(all_files)"
   ]
  },
  {
   "cell_type": "code",
   "execution_count": 10,
   "metadata": {
    "scrolled": false
   },
   "outputs": [
    {
     "data": {
      "application/vnd.jupyter.widget-view+json": {
       "model_id": "6de36836ec8844a9b5a1c5860170be98",
       "version_major": 2,
       "version_minor": 0
      },
      "text/plain": [
       "HBox(children=(IntProgress(value=1, bar_style='info', max=1), HTML(value='')))"
      ]
     },
     "metadata": {},
     "output_type": "display_data"
    },
    {
     "data": {
      "application/vnd.jupyter.widget-view+json": {
       "model_id": "7200ce4171d148ae9474ccc70cbf7eae",
       "version_major": 2,
       "version_minor": 0
      },
      "text/plain": [
       "HBox(children=(IntProgress(value=1, bar_style='info', max=1), HTML(value='')))"
      ]
     },
     "metadata": {},
     "output_type": "display_data"
    },
    {
     "data": {
      "application/vnd.jupyter.widget-view+json": {
       "model_id": "705472015ca94556822bffcacf7fcd5b",
       "version_major": 2,
       "version_minor": 0
      },
      "text/plain": [
       "HBox(children=(IntProgress(value=1, bar_style='info', max=1), HTML(value='')))"
      ]
     },
     "metadata": {},
     "output_type": "display_data"
    },
    {
     "data": {
      "application/vnd.jupyter.widget-view+json": {
       "model_id": "f4282a7b0f584ebcb883cbee785cd72a",
       "version_major": 2,
       "version_minor": 0
      },
      "text/plain": [
       "HBox(children=(IntProgress(value=1, bar_style='info', max=1), HTML(value='')))"
      ]
     },
     "metadata": {},
     "output_type": "display_data"
    },
    {
     "data": {
      "application/vnd.jupyter.widget-view+json": {
       "model_id": "807f9a09c0da427fad1fb22fbee877fc",
       "version_major": 2,
       "version_minor": 0
      },
      "text/plain": [
       "HBox(children=(IntProgress(value=1, bar_style='info', max=1), HTML(value='')))"
      ]
     },
     "metadata": {},
     "output_type": "display_data"
    },
    {
     "data": {
      "application/vnd.jupyter.widget-view+json": {
       "model_id": "f7b51a14f64b45fba9eef026935a0fad",
       "version_major": 2,
       "version_minor": 0
      },
      "text/plain": [
       "HBox(children=(IntProgress(value=1, bar_style='info', max=1), HTML(value='')))"
      ]
     },
     "metadata": {},
     "output_type": "display_data"
    },
    {
     "data": {
      "application/vnd.jupyter.widget-view+json": {
       "model_id": "208898a917744cae91f93c0db972fe21",
       "version_major": 2,
       "version_minor": 0
      },
      "text/plain": [
       "HBox(children=(IntProgress(value=1, bar_style='info', max=1), HTML(value='')))"
      ]
     },
     "metadata": {},
     "output_type": "display_data"
    },
    {
     "data": {
      "application/vnd.jupyter.widget-view+json": {
       "model_id": "25e48566321145a08700a72a56cdfeae",
       "version_major": 2,
       "version_minor": 0
      },
      "text/plain": [
       "HBox(children=(IntProgress(value=1, bar_style='info', max=1), HTML(value='')))"
      ]
     },
     "metadata": {},
     "output_type": "display_data"
    },
    {
     "data": {
      "application/vnd.jupyter.widget-view+json": {
       "model_id": "d54a746fb35743658dc2bf1819acff2c",
       "version_major": 2,
       "version_minor": 0
      },
      "text/plain": [
       "HBox(children=(IntProgress(value=1, bar_style='info', max=1), HTML(value='')))"
      ]
     },
     "metadata": {},
     "output_type": "display_data"
    },
    {
     "data": {
      "application/vnd.jupyter.widget-view+json": {
       "model_id": "aff30ebef0c44ed99fa495a82f181881",
       "version_major": 2,
       "version_minor": 0
      },
      "text/plain": [
       "HBox(children=(IntProgress(value=0, max=27444620), HTML(value='')))"
      ]
     },
     "metadata": {},
     "output_type": "display_data"
    },
    {
     "data": {
      "application/vnd.jupyter.widget-view+json": {
       "model_id": "14035a99d5c44c798cf1972869c95aa6",
       "version_major": 2,
       "version_minor": 0
      },
      "text/plain": [
       "HBox(children=(IntProgress(value=0, max=31025451), HTML(value='')))"
      ]
     },
     "metadata": {},
     "output_type": "display_data"
    },
    {
     "data": {
      "application/vnd.jupyter.widget-view+json": {
       "model_id": "859bd3c45bbb43e2b2c1694960dd5351",
       "version_major": 2,
       "version_minor": 0
      },
      "text/plain": [
       "HBox(children=(IntProgress(value=0, max=37088284), HTML(value='')))"
      ]
     },
     "metadata": {},
     "output_type": "display_data"
    },
    {
     "data": {
      "application/vnd.jupyter.widget-view+json": {
       "model_id": "eb6fe1b38a344556b8ed33ffed88de3c",
       "version_major": 2,
       "version_minor": 0
      },
      "text/plain": [
       "HBox(children=(IntProgress(value=0, max=38947237), HTML(value='')))"
      ]
     },
     "metadata": {},
     "output_type": "display_data"
    },
    {
     "data": {
      "application/vnd.jupyter.widget-view+json": {
       "model_id": "30aaff8516f74e698342ac4f819fceb3",
       "version_major": 2,
       "version_minor": 0
      },
      "text/plain": [
       "HBox(children=(IntProgress(value=0, max=35931184), HTML(value='')))"
      ]
     },
     "metadata": {},
     "output_type": "display_data"
    },
    {
     "data": {
      "application/vnd.jupyter.widget-view+json": {
       "model_id": "d3a5697c0afd4b3791595ec5d72e4a8b",
       "version_major": 2,
       "version_minor": 0
      },
      "text/plain": [
       "HBox(children=(IntProgress(value=0, max=47429643), HTML(value='')))"
      ]
     },
     "metadata": {},
     "output_type": "display_data"
    },
    {
     "data": {
      "application/vnd.jupyter.widget-view+json": {
       "model_id": "3b01834422a34042988d5d633f0e4eef",
       "version_major": 2,
       "version_minor": 0
      },
      "text/plain": [
       "HBox(children=(IntProgress(value=0, max=41044473), HTML(value='')))"
      ]
     },
     "metadata": {},
     "output_type": "display_data"
    },
    {
     "data": {
      "application/vnd.jupyter.widget-view+json": {
       "model_id": "e17ef6de97f54f12a53e3f192d6fe29e",
       "version_major": 2,
       "version_minor": 0
      },
      "text/plain": [
       "HBox(children=(IntProgress(value=0, max=45760254), HTML(value='')))"
      ]
     },
     "metadata": {},
     "output_type": "display_data"
    },
    {
     "data": {
      "application/vnd.jupyter.widget-view+json": {
       "model_id": "e23f3f779ca94375b51a742406ef4f9a",
       "version_major": 2,
       "version_minor": 0
      },
      "text/plain": [
       "HBox(children=(IntProgress(value=0, max=69555417), HTML(value='')))"
      ]
     },
     "metadata": {},
     "output_type": "display_data"
    }
   ],
   "source": [
    "from multiprocessing import Pool\n",
    "if __name__ == '__main__':\n",
    "    with Pool(processes=10) as pool:\n",
    "        all_df = pool.map(get_count, all_files)\n",
    "len(all_df)"
   ]
  },
  {
   "cell_type": "code",
   "execution_count": 31,
   "metadata": {},
   "outputs": [],
   "source": [
    "!mkdir -p bam_counts\n",
    "#for n in all_files:\n",
    "#    exp = n.split(os.path.sep)[0]\n",
    "#    all_df[n].to_csv(os.path.join('bam_counts',exp+'.csv'))"
   ]
  },
  {
   "cell_type": "code",
   "execution_count": 53,
   "metadata": {},
   "outputs": [],
   "source": [
    "new_dict = {}\n",
    "for n in all_df:\n",
    "    exp = list(n.keys())[0]\n",
    "    new_dict[exp]=n[exp]\n",
    "    n[exp].to_csv(os.path.join('bam_counts',exp+'.csv'))"
   ]
  },
  {
   "cell_type": "code",
   "execution_count": 80,
   "metadata": {},
   "outputs": [
    {
     "data": {
      "image/png": "[encoded data removed]",
      "text/plain": [
       "<Figure size 576x1152 with 2 Axes>"
      ]
     },
     "metadata": {
      "needs_background": "light"
     },
     "output_type": "display_data"
    }
   ],
   "source": [
    "exp ='7-Amp'\n",
    "temp = new_dict[exp]\n",
    "temp = temp.drop('failed')\n",
    "temp = temp.drop('GGG')\n",
    "temp = (temp/temp.max())\n",
    "\n",
    "\n",
    "labels = {}\n",
    "for c in gencode:\n",
    "    labels[c] = c+' ({})'.format(gencode[c])\n",
    "\n",
    "labels2 = {}    \n",
    "for n in temp:\n",
    "    codon = temp[n].argmax()\n",
    "    aa = gencode[codon]\n",
    "    labels2[n] =aa\n",
    "\n",
    "fig,ax=plt.subplots(figsize=(8,16))\n",
    "print(exp)\n",
    "sns.heatmap(temp.rename(labels).rename(labels2,axis=1),ax=ax,cmap='Blues',\n",
    "            linewidths=1, linecolor='grey',cbar_kws={\"shrink\": .3})\n",
    "\n",
    "ymin, ymax = ax.get_ylim()\n",
    "ax.set_ylim(ymin+0.5,ymax-0.5)\n",
    "ax.set_xlabel('AA codon Consensus')\n",
    "ax.set_ylabel('Codons')\n",
    "plt.title('Codon Frequency')\n",
    "plt.show()"
   ]
  },
  {
   "cell_type": "code",
   "execution_count": 79,
   "metadata": {},
   "outputs": [
    {
     "name": "stdout",
     "output_type": "stream",
     "text": [
      "bam_counts/\r\n",
      "bam_counts/10-Amp.csv\r\n",
      "bam_counts/3-Amp.csv\r\n",
      "bam_counts/9-Amp.csv\r\n",
      "bam_counts/8-Amp.csv\r\n",
      "bam_counts/5-Amp.csv\r\n",
      "bam_counts/2-Amp.csv\r\n",
      "bam_counts/7-Amp.csv\r\n",
      "bam_counts/1-Amp.csv\r\n",
      "bam_counts/6-Amp.csv\r\n"
     ]
    }
   ],
   "source": [
    "!tar -zcvf bam_counts.tar.gz bam_counts "
   ]
  },
  {
   "cell_type": "code",
   "execution_count": 1,
   "metadata": {},
   "outputs": [
    {
     "name": "stdout",
     "output_type": "stream",
     "text": [
      "[NbConvertApp] Converting notebook bam_to_codon_counts.ipynb to html\r\n"
     ]
    }
   ],
   "source": [
    "!jupyter nbconvert --to html bam_to_codon_counts.ipynb"
   ]
  },
  {
   "cell_type": "code",
   "execution_count": null,
   "metadata": {},
   "outputs": [],
   "source": []
  },
  {
   "cell_type": "code",
   "execution_count": null,
   "metadata": {},
   "outputs": [],
   "source": []
  },
  {
   "cell_type": "code",
   "execution_count": null,
   "metadata": {},
   "outputs": [],
   "source": []
  }
 ],
 "metadata": {
  "finalized": {
   "timestamp": 1624349288554,
   "trusted": true
  },
  "kernelspec": {
   "display_name": "Python 3",
   "language": "python",
   "name": "python3"
  },
  "language_info": {
   "codemirror_mode": {
    "name": "ipython",
    "version": 3
   },
   "file_extension": ".py",
   "mimetype": "text/x-python",
   "name": "python",
   "nbconvert_exporter": "python",
   "pygments_lexer": "ipython3",
   "version": "3.6.7"
  },
  "toc": {
   "base_numbering": 1,
   "nav_menu": {},
   "number_sections": true,
   "sideBar": true,
   "skip_h1_title": false,
   "title_cell": "Table of Contents",
   "title_sidebar": "Contents",
   "toc_cell": false,
   "toc_position": {},
   "toc_section_display": true,
   "toc_window_display": false
  }
 },
 "nbformat": 4,
 "nbformat_minor": 2
}
